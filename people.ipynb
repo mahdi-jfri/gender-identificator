{
 "cells": [
  {
   "cell_type": "code",
   "execution_count": 15,
   "outputs": [],
   "source": [
    "import json\n",
    "import subprocess\n",
    "import re\n",
    "import string\n",
    "from collections import OrderedDict\n",
    "\n",
    "import numpy as np\n",
    "import pandas as pd"
   ],
   "metadata": {
    "collapsed": false,
    "pycharm": {
     "name": "#%%\n"
    }
   }
  },
  {
   "cell_type": "code",
   "execution_count": 2,
   "outputs": [],
   "source": [
    "def normalize_name(name):\n",
    "    replaces = OrderedDict((\n",
    "        ('ee', 'i'),\n",
    "        ('iy', 'i'),\n",
    "        ('ey', 'ei'),\n",
    "        ('ei', 'i'),\n",
    "        ('q', 'gh'),\n",
    "        ('oo', 'u'),\n",
    "        ('ou', 'u'),\n",
    "        ('u', 'o'),\n",
    "        ('y', 'i'),\n",
    "        ('0', 'o'),\n",
    "        ('w', 'v'),\n",
    "    ))\n",
    "    name = '_'.join(re.findall('[a-z0]+', name.lower()))\n",
    "    for from_str, to_str in replaces.items():\n",
    "        name = name.replace(from_str, to_str)\n",
    "\n",
    "    name = re.sub('({})'.format('|'.join('%s{2,}' % ch for ch in string.ascii_lowercase)), lambda x: x.group(1)[0], name)\n",
    "\n",
    "    return name"
   ],
   "metadata": {
    "collapsed": false,
    "pycharm": {
     "name": "#%%\n"
    }
   }
  },
  {
   "cell_type": "code",
   "execution_count": 3,
   "outputs": [],
   "source": [
    "finglish_to_gender = OrderedDict(pd.read_csv('data/final_with_e.csv').set_index('pronounce')['gender'].to_dict())\n",
    "names = list(map(normalize_name, finglish_to_gender.keys()))"
   ],
   "metadata": {
    "collapsed": false,
    "pycharm": {
     "name": "#%%\n"
    }
   }
  },
  {
   "cell_type": "code",
   "execution_count": 4,
   "outputs": [],
   "source": [
    "def transform_usernames(usernames):\n",
    "    matrix = np.zeros((len(usernames), len(names)))\n",
    "    normalized_usernames = list(map(normalize_name, usernames))\n",
    "    # subprocess.call(['g++', '-std=c++14', 'calculate_matrix.cpp', '-o', 'calculate_matrix'])\n",
    "    subprocess.call(['g++', '-std=c++14', 'calculate_max_substring.cpp', '-o', 'calculate_max_substring'])\n",
    "    # p = subprocess.Popen(['./calculate_matrix'], shell=True, stdout=subprocess.PIPE, stdin=subprocess.PIPE)\n",
    "    p = subprocess.Popen(['./calculate_max_substring'], shell=True, stdout=subprocess.PIPE, stdin=subprocess.PIPE)\n",
    "    data_to_send = '\\n'.join([\n",
    "        f'{len(usernames)} {len(names)}',\n",
    "        ' '.join(names),\n",
    "        '\\n'.join(normalized_usernames),\n",
    "    ])\n",
    "    stdout, _ = p.communicate(bytes(data_to_send, 'UTF-8'))\n",
    "    result = str(stdout, 'UTF-8').split('\\n')\n",
    "    cnt = -1\n",
    "    for i, username in enumerate(normalized_usernames):\n",
    "        if not username:\n",
    "            continue\n",
    "        cnt += 1\n",
    "        values = list(map(float, result[cnt].split()))\n",
    "        assert len(values) == len(names), (len(values), len(names))\n",
    "\n",
    "        for j, value in enumerate(values):\n",
    "            matrix[i][j] = value if value > 0.8 else 0\n",
    "    return matrix"
   ],
   "metadata": {
    "collapsed": false,
    "pycharm": {
     "name": "#%%\n"
    }
   }
  },
  {
   "cell_type": "code",
   "execution_count": 5,
   "outputs": [],
   "source": [
    "def get_matrix_and_labels(data_path, return_csv=False, extra_usernames=None, extra_labels=None):\n",
    "    if extra_labels is None:\n",
    "        extra_labels = []\n",
    "    if extra_usernames is None:\n",
    "        extra_usernames = []\n",
    "    labeled = pd.read_csv(data_path)\n",
    "    # labeled = labeled[labeled['gender'] != 'e']\n",
    "    # labeled['gender'] = labeled['gender'].transform(lambda x: 1 if x == 'm' else 0)\n",
    "    usernames = labeled['username'].to_list()\n",
    "    labels = np.array(labeled['gender'].to_list() + extra_labels)\n",
    "    matrix = transform_usernames(usernames + extra_usernames)\n",
    "    valid_indexes = 1 <= matrix.sum(axis=1)\n",
    "    labeled = labeled[valid_indexes[:len(labeled)]]\n",
    "    matrix, labels = matrix[valid_indexes], labels[valid_indexes]\n",
    "    if return_csv:\n",
    "        # return matrix, labels, labeled\n",
    "        return matrix, labels, labeled\n",
    "    else:\n",
    "        return matrix, labels"
   ],
   "metadata": {
    "collapsed": false,
    "pycharm": {
     "name": "#%%\n"
    }
   }
  },
  {
   "cell_type": "code",
   "execution_count": 6,
   "outputs": [
    {
     "name": "stderr",
     "output_type": "stream",
     "text": [
      "0\n",
      "0.114299\n",
      "0.228598\n",
      "0.342896\n",
      "0.457195\n",
      "0.571494\n",
      "0.685793\n",
      "0.800091\n",
      "0.91439\n",
      "0\n"
     ]
    }
   ],
   "source": [
    "matrix, labels, people_data = get_matrix_and_labels(\n",
    "    'data/labeled_people.csv',\n",
    "    return_csv=True,\n",
    "    extra_usernames=list(finglish_to_gender.keys()),\n",
    "    extra_labels=list(finglish_to_gender.values()),\n",
    ")\n",
    "valid_matrix, valid_labels, valid_people_data = get_matrix_and_labels('data/test_people.csv', return_csv=True)"
   ],
   "metadata": {
    "collapsed": false,
    "pycharm": {
     "name": "#%%\n"
    }
   }
  },
  {
   "cell_type": "code",
   "execution_count": 7,
   "outputs": [
    {
     "data": {
      "text/plain": "SVC(tol=1e-06)"
     },
     "execution_count": 7,
     "metadata": {},
     "output_type": "execute_result"
    }
   ],
   "source": [
    "from sklearn.svm import SVC\n",
    "\n",
    "ridge_model = SVC(tol=1e-6, max_iter=-1)\n",
    "ridge_model.fit(matrix, labels)"
   ],
   "metadata": {
    "collapsed": false,
    "pycharm": {
     "name": "#%%\n"
    }
   }
  },
  {
   "cell_type": "code",
   "execution_count": 8,
   "outputs": [
    {
     "name": "stdout",
     "output_type": "stream",
     "text": [
      "mahshammarket f e\n",
      "esmail_1361s f m\n",
      "vahideh84 m f\n",
      "butane_rastaghi m e\n",
      "johnaerys m f\n",
      "_niilas_ f e\n",
      "yaghout_zhikaal.sh m e\n",
      "jahanbakhsh9979 f m\n",
      "adafatemeh f e\n",
      "mortezashiri.marketing f m\n",
      "nouribime f e\n",
      "majidnamakinooshabadi f m\n",
      "ghajarirestaurant f e\n",
      "khosromehri1796 f m\n",
      "kiyan_red864 m e\n",
      "porotoenamirabbass m e\n",
      "nana_food_00 f e\n",
      "seyed__akef m e\n",
      "hanima9494 f e\n",
      "lil.ifood e f\n",
      "yare_mehraban__ f e\n",
      "dr.roghayeh.valipour m f\n",
      "faraziin.fan.page e f\n",
      "sorry__yaar____ f m\n",
      "mezonshayesteh_ f e\n",
      "arezoo_arayeshi f e\n",
      "mrs_sr.77 m f\n",
      "micro.atefeh.jafari f e\n",
      "n.a.afshar m e\n",
      "mahdiesmailzadeh5 f m\n",
      "sirvani.m13 m f\n",
      "realnimataheri f m\n",
      "mehr_.bt f e\n",
      "miakouroshcandy m f\n",
      "ba_namee m e\n",
      "a_r_sarem m e\n",
      "kalimdor_ir m e\n",
      "eskandar.1977 f m\n",
      "mahdisafari530 f m\n",
      "mehradraders_9706 f m\n",
      "asalsabalan_meshkin f e\n",
      "kazemkr7777 f m\n",
      "foroozan_hassan f m\n",
      "somayeh_.javid m f\n",
      "khywmrth1266 m e\n",
      "noroozy2343 m e\n",
      "qais__khawarin m e\n",
      "ansaripage e m\n",
      "z.javanmard1339 f e\n",
      "mehdinaghash1360 f m\n",
      "zoya____eshghe___perspolis e f\n",
      "atr_yadavar m e\n",
      "ebisoli59 m f\n",
      "telma_beauty f e\n",
      "ronaldo.irani77 e m\n",
      "fall_ghazaleh f e\n",
      "nimarashidi914 f m\n",
      "kaiiate.mahde.rasht.ir f m\n",
      "azizi_dr_11 m f\n",
      "zarifeh.afrah f e\n",
      "signalical m e\n",
      "mehr_138989 f m\n",
      "tradealias m e\n",
      "set_rahati_ f e\n",
      "yashartyby042 e m\n",
      "safi_nano_keratin_kaviani m e\n",
      "zarghani_8059 f e\n",
      "dr._nuruzi m f\n",
      "aghayehaghgoo f m\n",
      "tahmasbi33 m e\n",
      "drsanaie f e\n",
      "m.nazari2022 f m\n",
      "silahosini m f\n",
      "fayyaz_mehr m e\n",
      "keivanroshani82 f m\n",
      "honarmand.show f e\n",
      "zoha565 m f\n",
      "marjan_mehrniaa m f\n",
      "me.mehrzadeh m e\n",
      "mayaatlantis12000 f e\n",
      "mehrsa_v_alireza f e\n",
      "missazghandi e f\n",
      "cristina_art_jameson f e\n",
      "denaalborzi70 f e\n",
      "ghazaleh_amir_95 m f\n",
      "ridge prediction: 85.29411764705883 %\n"
     ]
    }
   ],
   "source": [
    "ridge_predict = ridge_model.predict(valid_matrix)\n",
    "for cnt, (a, (_, b)) in enumerate(zip(ridge_predict, valid_people_data.iterrows())):\n",
    "    if a != b['gender']:\n",
    "        print(b['username'], a, b['gender'])\n",
    "        # transformed = valid_matrix[cnt]\n",
    "        # for j, name in enumerate(names):\n",
    "        #     if transformed[j] > 0:\n",
    "        #         print(transformed[j], name, list(finglish_to_gender.keys())[j])\n",
    "\n",
    "print('ridge prediction:', (ridge_predict == valid_people_data['gender'].to_list()).mean() * 100, '%')\n"
   ],
   "metadata": {
    "collapsed": false,
    "pycharm": {
     "name": "#%%\n"
    }
   }
  },
  {
   "cell_type": "code",
   "execution_count": 9,
   "outputs": [],
   "source": [
    "# predict_proba = ridge_model.predict_proba(valid_matrix)"
   ],
   "metadata": {
    "collapsed": false,
    "pycharm": {
     "name": "#%%\n"
    }
   }
  },
  {
   "cell_type": "code",
   "execution_count": 10,
   "outputs": [],
   "source": [
    "# print(len(predict_proba))\n",
    "# sure = [i for i, x in enumerate(predict_proba) if max(x) > 0.8]\n",
    "# print(len(sure))\n",
    "# print('ridge prediction:', (ridge_predict[sure] == np.array(valid_people_data['gender'].to_list())[sure]).mean() * 100, '%')"
   ],
   "metadata": {
    "collapsed": false,
    "pycharm": {
     "name": "#%%\n"
    }
   }
  },
  {
   "cell_type": "code",
   "execution_count": 11,
   "outputs": [
    {
     "name": "stdout",
     "output_type": "stream",
     "text": [
      "(6604, 2252) (6604,) 1.4025861176559662 1.0 1.0518792856647272 0\n",
      "Unnamed: 0                                                    3730\n",
      "id                                                      3046562345\n",
      "profile_pic_url    https://api.kaftaar.ir/media/user_feed/dYqNa1Tz\n",
      "username                                                mehranabou\n",
      "gender                                                           f\n",
      "Name: 3730, dtype: object\n"
     ]
    }
   ],
   "source": [
    "x = matrix.sum(axis=1)\n",
    "print(matrix.shape, x.shape, x.mean(), np.median(x), np.var(x), len([y for y in x if not y]))\n",
    "print(people_data.iloc[x.argmax()])"
   ],
   "metadata": {
    "collapsed": false,
    "pycharm": {
     "name": "#%%\n"
    }
   }
  },
  {
   "cell_type": "code",
   "execution_count": 12,
   "outputs": [],
   "source": [
    "# e_matrix = matrix[people_data['gender'] == 'e']\n",
    "# x = e_matrix.sum(axis=1)\n",
    "# print(x.mean(), np.median(x), np.var(x), e_matrix.shape)\n",
    "# values = sorted(x.tolist())\n",
    "# for idx in x.argsort()[-400:]:\n",
    "#     row = people_data[people_data['gender'] == 'e'].iloc[idx]\n",
    "#     print(row['username'], ':')\n",
    "#     transformed = e_matrix[idx]\n",
    "#     for j, name in enumerate(names):\n",
    "#         if transformed[j] > 0:\n",
    "#             print(transformed[j], name)\n",
    "#     # print(row)\n",
    "#     from IPython.display import Image, display\n",
    "#     display(Image(filename=f'data/pictures/{row[\"profile_pic_url\"].split(\"/\")[-1]}.jpg'))"
   ],
   "metadata": {
    "collapsed": false,
    "pycharm": {
     "name": "#%%\n"
    }
   }
  },
  {
   "cell_type": "code",
   "execution_count": 31,
   "outputs": [
    {
     "name": "stderr",
     "output_type": "stream",
     "text": [
      "0\n"
     ]
    }
   ],
   "source": [
    "picture_used_matrix, picture_used_labels, picture_used_data = get_matrix_and_labels('data/picture-used-data.csv', return_csv=True)"
   ],
   "metadata": {
    "collapsed": false,
    "pycharm": {
     "name": "#%%\n"
    }
   }
  },
  {
   "cell_type": "code",
   "execution_count": 38,
   "outputs": [
    {
     "name": "stdout",
     "output_type": "stream",
     "text": [
      "f f saba.yahyaiee ok!\n",
      "m m am.irhosin5232 ok!\n",
      "f f about.saghar ok!\n",
      "m e s.ziamirhoseini wrong!\n",
      "m m iman_arra ok!\n",
      "m m mhdheydarii ok!\n",
      "m m _mohsen_0 ok!\n",
      "f e asanseminar wrong!\n",
      "f f _hanie.j_ ok!\n",
      "m m mahdi_ara ok!\n",
      "e m barbad_mokia wrong!\n",
      "m f mrs_zabihollahzade wrong!\n",
      "f f bahar.jmohammadi ok!\n",
      "m f hassanzadeh.coach wrong!\n",
      "m m mr.emadii ok!\n",
      "f f mahdie.eilaky ok!\n",
      "m m alibagheriinsta ok!\n",
      "f e danestaniaw wrong!\n",
      "f e atieh.computer wrong!\n",
      "f m bahaminst wrong!\n",
      "f f manager_zahrra ok!\n",
      "f f zahraasadii.ir ok!\n",
      "e e eiffelcloth ok!\n",
      "e f star_food_blogger wrong!\n",
      "m m aradweb.ir ok!\n",
      "m e mr.amoozsh wrong!\n",
      "f e adminoruji wrong!\n",
      "f e marzieh972 wrong!\n",
      "f f _golemaryam_ ok!\n",
      "m m nimakhosravi.ir ok!\n",
      "m m mohammad.tghz ok!\n",
      "f m monaz.me wrong!\n",
      "f e h.sara04 wrong!\n",
      "f m saleh_gh95 wrong!\n",
      "f f niloofar_sekhavati ok!\n",
      "m m hesambahman ok!\n",
      "f f maryam_mhmdi11 ok!\n",
      "f e solmaz_eftekhari wrong!\n",
      "m m siavashrahbar ok!\n",
      "m f nazli_akmali wrong!\n",
      "f f leila12_e18 ok!\n",
      "m m arashniiknam ok!\n",
      "m m mostafa.bagheri71 ok!\n",
      "f f mona_dolati ok!\n",
      "m m nasrmorady66 ok!\n",
      "e f kiosk.training wrong!\n",
      "m m navid74pro ok!\n",
      "f e admin_zeynab_ wrong!\n",
      "m m mohsenvaghei ok!\n",
      "f f sepideh.f46 ok!\n",
      "m m benyamin_ansarii ok!\n",
      "m m hamydhoseini ok!\n",
      "f m nasrin.als wrong!\n",
      "f f dr.charsetad.marketing ok!\n",
      "m e yaserworkshop wrong!\n",
      "e e bazaryabi.online ok!\n",
      "m f ahmadikhah_math wrong!\n",
      "m m mr.fakhar ok!\n",
      "f m mohammadalavinasab wrong!\n",
      "f e digimark_marketing_agency wrong!\n",
      "f f vitrin.khazar ok!\n",
      "f e arayeshi_gloriya wrong!\n",
      "m e human_resource_managers wrong!\n",
      "f f arezoo.sabriii ok!\n",
      "m m m.sharifzade ok!\n",
      "f e __haniam___ wrong!\n",
      "m m _salar.golmohammadi_ ok!\n",
      "m f farlan.fazli wrong!\n",
      "m f admin.alinia wrong!\n",
      "f f _talarn_ ok!\n",
      "e e nj_wearcollection ok!\n",
      "f e exlir_rayan_ads.ir wrong!\n",
      "f e avintarhir wrong!\n",
      "f f gallery_soozan_talaei ok!\n",
      "m e jaryan.social wrong!\n",
      "f f maryashi1 ok!\n",
      "e e aranikweb.ir ok!\n",
      "m m alirezajalili.95 ok!\n",
      "m m borhan.ebnoddin ok!\n",
      "m m bastan_collection ok!\n",
      "f e khayati_nimtaj wrong!\n",
      "f e elaheh_sh65 wrong!\n",
      "m e arsha.ads wrong!\n",
      "m m mahdipiri_ir ok!\n",
      "m f mehdi_aghapour wrong!\n",
      "f m aliesfandiari97 wrong!\n",
      "m m amirdaneshvar02 ok!\n",
      "e e camillacontishop ok!\n",
      "m e galya_boutiique wrong!\n",
      "f f shakibaa.salmani ok!\n",
      "f f nedastory_ ok!\n",
      "f e pardisansystem wrong!\n",
      "f m ariotaherii wrong!\n",
      "f m zarrin_star wrong!\n",
      "e m sadeghtavasoliin wrong!\n",
      "f f yaldarad.master ok!\n",
      "f f manager.aurora ok!\n",
      "f f elham.garajian.pmu ok!\n",
      "m f starhabibiinsta wrong!\n",
      "f m amiravira.ir wrong!\n",
      "m e mehdi_khordehchi wrong!\n",
      "f m miladkaramiofficial wrong!\n",
      "f e mariw_graphy wrong!\n",
      "f m moalleme.karafarin wrong!\n",
      "f f negin_792_ ok!\n",
      "m m mreza.fahimi ok!\n",
      "f f admin_maleki ok!\n",
      "m m amir.rasulli ok!\n",
      "m e rezasaeediinsta wrong!\n",
      "f e samin_foreverliving wrong!\n",
      "m m sina_arabzadeeh ok!\n",
      "f f kianarajabii ok!\n",
      "m m dr_hamidreza_mokhtari ok!\n",
      "m f arian_n.l wrong!\n",
      "m e ____.muhammad____ wrong!\n",
      "e f malakeh.darvish wrong!\n",
      "f f nafiseh_jaberi ok!\n",
      "f f farna.__.z ok!\n",
      "m m ahmadi_marvast ok!\n",
      "m e webpouya wrong!\n",
      "e e iranian_hi ok!\n",
      "m f mirrahmati.beauty wrong!\n",
      "f e talia.gallery wrong!\n",
      "m e mmmohammad1366 wrong!\n",
      "f f simin_dhn ok!\n",
      "f f faatemeh.ideas ok!\n",
      "m m alireza_beyond_infinity ok!\n",
      "m e mba.sharif wrong!\n",
      "m f _alirezas_ wrong!\n",
      "e e womart.shopstore ok!\n",
      "f f leily.aliabady ok!\n",
      "e e ellexyshop ok!\n",
      "m m mahdi_sadeq ok!\n",
      "f e najva.marketing wrong!\n",
      "f f rojan.khanipour ok!\n",
      "f f mahsa.javidiz ok!\n",
      "m m shayan.pesaran_branding ok!\n",
      "m m behnamiinsta ok!\n",
      "m f kaaryaar.business wrong!\n",
      "m f araline.co wrong!\n",
      "f f mahdieh_ent ok!\n",
      "f f farnazsaidy ok!\n",
      "f f _zahra_bn.pv ok!\n",
      "f f azadenasseri ok!\n",
      "e f damnosh_salamatt wrong!\n",
      "m f parighanbarian_1993 wrong!\n",
      "m m m.alidoost420 ok!\n",
      "f f mahdis_makh ok!\n",
      "f f zahrathankful ok!\n",
      "m m mh.nadali ok!\n",
      "m m mohammad_sheikhi ok!\n",
      "f f atena_mohamadzaadeh ok!\n",
      "f m ronak_shakeri wrong!\n",
      "f f sheidazandi ok!\n",
      "f f niloufar.rabiee ok!\n",
      "f f mahdis_yazdooie ok!\n",
      "f e reyhanimedia wrong!\n",
      "f m mosa.b77 wrong!\n",
      "m m charkh.khayati.bahrabadi ok!\n",
      "e e clickaval ok!\n",
      "m m fisalaray ok!\n",
      "f f faranak.tah ok!\n",
      "m m r.nasr.i ok!\n",
      "m f baskarco.ir wrong!\n",
      "e e toybaran ok!\n",
      "m f teacher.vahidian wrong!\n",
      "difference: 0.5843373493975904\n"
     ]
    }
   ],
   "source": [
    "picture_used_predict = ridge_model.predict(picture_used_matrix)\n",
    "for predict, label, (_, row) in zip(picture_used_predict, picture_used_labels, picture_used_data.iterrows()):\n",
    "    print(predict, label, row['username'], 'ok!' if predict == label else 'wrong!')\n",
    "print('difference:', (picture_used_predict == picture_used_labels).mean())"
   ],
   "metadata": {
    "collapsed": false,
    "pycharm": {
     "name": "#%%\n"
    }
   }
  }
 ],
 "metadata": {
  "kernelspec": {
   "display_name": "Python 3",
   "language": "python",
   "name": "python3"
  },
  "language_info": {
   "codemirror_mode": {
    "name": "ipython",
    "version": 2
   },
   "file_extension": ".py",
   "mimetype": "text/x-python",
   "name": "python",
   "nbconvert_exporter": "python",
   "pygments_lexer": "ipython2",
   "version": "2.7.6"
  }
 },
 "nbformat": 4,
 "nbformat_minor": 0
}